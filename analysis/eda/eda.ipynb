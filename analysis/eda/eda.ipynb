{
 "cells": [
  {
   "cell_type": "markdown",
   "metadata": {
    "toc": true
   },
   "source": [
    "<h1>Table of Contents<span class=\"tocSkip\"></span></h1>\n",
    "<div class=\"toc\"><ul class=\"toc-item\"></ul></div>"
   ]
  },
  {
   "cell_type": "code",
   "execution_count": 1,
   "metadata": {},
   "outputs": [],
   "source": [
    "from dataset.load_dataset import load_click, load_order, load_sku, load_user\n",
    "from dataset.join_dataset import join_click_order\n",
    "from dataset.select_data import select_timerange\n",
    "from dataset.transform import to_sequence"
   ]
  },
  {
   "cell_type": "code",
   "execution_count": 3,
   "metadata": {},
   "outputs": [
    {
     "name": "stdout",
     "output_type": "stream",
     "text": [
      "\n",
      "    select data within a time range\n",
      "    \n",
      "    >>> select_timerange(DataFrame, '2019-1-1', '2019-2-1')\n",
      "\n"
     ]
    }
   ],
   "source": [
    "print(select_timerange.__doc__)"
   ]
  },
  {
   "cell_type": "code",
   "execution_count": 4,
   "metadata": {},
   "outputs": [
    {
     "data": {
      "text/html": [
       "<div>\n",
       "<style scoped>\n",
       "    .dataframe tbody tr th:only-of-type {\n",
       "        vertical-align: middle;\n",
       "    }\n",
       "\n",
       "    .dataframe tbody tr th {\n",
       "        vertical-align: top;\n",
       "    }\n",
       "\n",
       "    .dataframe thead th {\n",
       "        text-align: right;\n",
       "    }\n",
       "</style>\n",
       "<table border=\"1\" class=\"dataframe\">\n",
       "  <thead>\n",
       "    <tr style=\"text-align: right;\">\n",
       "      <th></th>\n",
       "      <th>user_ID</th>\n",
       "      <th>sku_ID</th>\n",
       "      <th>request_date</th>\n",
       "      <th>request_time</th>\n",
       "      <th>order_date</th>\n",
       "      <th>order_ID</th>\n",
       "      <th>if_order</th>\n",
       "    </tr>\n",
       "  </thead>\n",
       "  <tbody>\n",
       "    <tr>\n",
       "      <td>815930</td>\n",
       "      <td>-</td>\n",
       "      <td>e88f7a67c7</td>\n",
       "      <td>2018-02-28</td>\n",
       "      <td>2018-02-28 23:59:08</td>\n",
       "      <td>NaT</td>\n",
       "      <td>NaN</td>\n",
       "      <td>False</td>\n",
       "    </tr>\n",
       "    <tr>\n",
       "      <td>270065</td>\n",
       "      <td>-</td>\n",
       "      <td>b9f08a2a2a</td>\n",
       "      <td>2018-02-28</td>\n",
       "      <td>2018-02-28 23:59:15</td>\n",
       "      <td>NaT</td>\n",
       "      <td>NaN</td>\n",
       "      <td>False</td>\n",
       "    </tr>\n",
       "    <tr>\n",
       "      <td>899921</td>\n",
       "      <td>-</td>\n",
       "      <td>7f0ddbcdde</td>\n",
       "      <td>2018-02-28</td>\n",
       "      <td>2018-02-28 23:59:25</td>\n",
       "      <td>NaT</td>\n",
       "      <td>NaN</td>\n",
       "      <td>False</td>\n",
       "    </tr>\n",
       "    <tr>\n",
       "      <td>617224</td>\n",
       "      <td>-</td>\n",
       "      <td>1b3f5d4d21</td>\n",
       "      <td>2018-02-28</td>\n",
       "      <td>2018-02-28 23:59:32</td>\n",
       "      <td>NaT</td>\n",
       "      <td>NaN</td>\n",
       "      <td>False</td>\n",
       "    </tr>\n",
       "    <tr>\n",
       "      <td>77180</td>\n",
       "      <td>-</td>\n",
       "      <td>2e6929ecb9</td>\n",
       "      <td>2018-02-28</td>\n",
       "      <td>2018-02-28 23:59:37</td>\n",
       "      <td>NaT</td>\n",
       "      <td>NaN</td>\n",
       "      <td>False</td>\n",
       "    </tr>\n",
       "  </tbody>\n",
       "</table>\n",
       "</div>"
      ],
      "text/plain": [
       "       user_ID      sku_ID request_date        request_time order_date  \\\n",
       "815930       -  e88f7a67c7   2018-02-28 2018-02-28 23:59:08        NaT   \n",
       "270065       -  b9f08a2a2a   2018-02-28 2018-02-28 23:59:15        NaT   \n",
       "899921       -  7f0ddbcdde   2018-02-28 2018-02-28 23:59:25        NaT   \n",
       "617224       -  1b3f5d4d21   2018-02-28 2018-02-28 23:59:32        NaT   \n",
       "77180        -  2e6929ecb9   2018-02-28 2018-02-28 23:59:37        NaT   \n",
       "\n",
       "       order_ID  if_order  \n",
       "815930      NaN     False  \n",
       "270065      NaN     False  \n",
       "899921      NaN     False  \n",
       "617224      NaN     False  \n",
       "77180       NaN     False  "
      ]
     },
     "execution_count": 4,
     "metadata": {},
     "output_type": "execute_result"
    }
   ],
   "source": [
    "df_click_order = join_click_order() # 获取click表格和order表格的join\n",
    "df_click_order.head()"
   ]
  },
  {
   "cell_type": "code",
   "execution_count": 5,
   "metadata": {},
   "outputs": [],
   "source": [
    "df_sku = load_sku()"
   ]
  },
  {
   "cell_type": "code",
   "execution_count": 6,
   "metadata": {},
   "outputs": [
    {
     "data": {
      "text/html": [
       "<div>\n",
       "<style scoped>\n",
       "    .dataframe tbody tr th:only-of-type {\n",
       "        vertical-align: middle;\n",
       "    }\n",
       "\n",
       "    .dataframe tbody tr th {\n",
       "        vertical-align: top;\n",
       "    }\n",
       "\n",
       "    .dataframe thead th {\n",
       "        text-align: right;\n",
       "    }\n",
       "</style>\n",
       "<table border=\"1\" class=\"dataframe\">\n",
       "  <thead>\n",
       "    <tr style=\"text-align: right;\">\n",
       "      <th></th>\n",
       "      <th>user_ID</th>\n",
       "      <th>sku_ID</th>\n",
       "      <th>request_date</th>\n",
       "      <th>request_time</th>\n",
       "      <th>order_date</th>\n",
       "      <th>order_ID</th>\n",
       "      <th>if_order</th>\n",
       "      <th>type</th>\n",
       "      <th>brand_ID</th>\n",
       "      <th>attribute1</th>\n",
       "      <th>attribute2</th>\n",
       "      <th>activate_date</th>\n",
       "      <th>deactivate_date</th>\n",
       "    </tr>\n",
       "  </thead>\n",
       "  <tbody>\n",
       "    <tr>\n",
       "      <td>0</td>\n",
       "      <td>-</td>\n",
       "      <td>e88f7a67c7</td>\n",
       "      <td>2018-02-28</td>\n",
       "      <td>2018-02-28 23:59:08</td>\n",
       "      <td>NaT</td>\n",
       "      <td>NaN</td>\n",
       "      <td>False</td>\n",
       "      <td>2</td>\n",
       "      <td>08b73dd77a</td>\n",
       "      <td>2.0</td>\n",
       "      <td>50.0</td>\n",
       "      <td>NaN</td>\n",
       "      <td>NaN</td>\n",
       "    </tr>\n",
       "    <tr>\n",
       "      <td>1</td>\n",
       "      <td>-</td>\n",
       "      <td>e88f7a67c7</td>\n",
       "      <td>2018-03-02</td>\n",
       "      <td>2018-03-02 07:47:22</td>\n",
       "      <td>NaT</td>\n",
       "      <td>NaN</td>\n",
       "      <td>False</td>\n",
       "      <td>2</td>\n",
       "      <td>08b73dd77a</td>\n",
       "      <td>2.0</td>\n",
       "      <td>50.0</td>\n",
       "      <td>NaN</td>\n",
       "      <td>NaN</td>\n",
       "    </tr>\n",
       "    <tr>\n",
       "      <td>2</td>\n",
       "      <td>-</td>\n",
       "      <td>e88f7a67c7</td>\n",
       "      <td>2018-03-04</td>\n",
       "      <td>2018-03-04 21:38:58</td>\n",
       "      <td>NaT</td>\n",
       "      <td>NaN</td>\n",
       "      <td>False</td>\n",
       "      <td>2</td>\n",
       "      <td>08b73dd77a</td>\n",
       "      <td>2.0</td>\n",
       "      <td>50.0</td>\n",
       "      <td>NaN</td>\n",
       "      <td>NaN</td>\n",
       "    </tr>\n",
       "    <tr>\n",
       "      <td>3</td>\n",
       "      <td>-</td>\n",
       "      <td>e88f7a67c7</td>\n",
       "      <td>2018-03-07</td>\n",
       "      <td>2018-03-07 11:05:56</td>\n",
       "      <td>NaT</td>\n",
       "      <td>NaN</td>\n",
       "      <td>False</td>\n",
       "      <td>2</td>\n",
       "      <td>08b73dd77a</td>\n",
       "      <td>2.0</td>\n",
       "      <td>50.0</td>\n",
       "      <td>NaN</td>\n",
       "      <td>NaN</td>\n",
       "    </tr>\n",
       "    <tr>\n",
       "      <td>4</td>\n",
       "      <td>-</td>\n",
       "      <td>e88f7a67c7</td>\n",
       "      <td>2018-03-07</td>\n",
       "      <td>2018-03-07 11:22:30</td>\n",
       "      <td>NaT</td>\n",
       "      <td>NaN</td>\n",
       "      <td>False</td>\n",
       "      <td>2</td>\n",
       "      <td>08b73dd77a</td>\n",
       "      <td>2.0</td>\n",
       "      <td>50.0</td>\n",
       "      <td>NaN</td>\n",
       "      <td>NaN</td>\n",
       "    </tr>\n",
       "  </tbody>\n",
       "</table>\n",
       "</div>"
      ],
      "text/plain": [
       "  user_ID      sku_ID request_date        request_time order_date order_ID  \\\n",
       "0       -  e88f7a67c7   2018-02-28 2018-02-28 23:59:08        NaT      NaN   \n",
       "1       -  e88f7a67c7   2018-03-02 2018-03-02 07:47:22        NaT      NaN   \n",
       "2       -  e88f7a67c7   2018-03-04 2018-03-04 21:38:58        NaT      NaN   \n",
       "3       -  e88f7a67c7   2018-03-07 2018-03-07 11:05:56        NaT      NaN   \n",
       "4       -  e88f7a67c7   2018-03-07 2018-03-07 11:22:30        NaT      NaN   \n",
       "\n",
       "   if_order  type    brand_ID attribute1 attribute2 activate_date  \\\n",
       "0     False     2  08b73dd77a        2.0       50.0           NaN   \n",
       "1     False     2  08b73dd77a        2.0       50.0           NaN   \n",
       "2     False     2  08b73dd77a        2.0       50.0           NaN   \n",
       "3     False     2  08b73dd77a        2.0       50.0           NaN   \n",
       "4     False     2  08b73dd77a        2.0       50.0           NaN   \n",
       "\n",
       "  deactivate_date  \n",
       "0             NaN  \n",
       "1             NaN  \n",
       "2             NaN  \n",
       "3             NaN  \n",
       "4             NaN  "
      ]
     },
     "execution_count": 6,
     "metadata": {},
     "output_type": "execute_result"
    }
   ],
   "source": [
    "df_click_order_sku = df_click_order.merge(df_sku, left_on='sku_ID',\n",
    "                                                right_on = 'sku_ID')\n",
    "df_click_order_sku.head()"
   ]
  },
  {
   "cell_type": "code",
   "execution_count": 7,
   "metadata": {},
   "outputs": [
    {
     "name": "stderr",
     "output_type": "stream",
     "text": [
      "100%|██████████| 1000000/1000000 [00:59<00:00, 16889.82it/s]\n",
      "['0db6139767', ['e88f7a67c7'], [Timestamp('2018-03-27 13:05:41')], [False]]\n"
     ]
    }
   ],
   "source": [
    " # 将df_click_order表格转为序列数据\n",
    "click_sequence = to_sequence(df_click_order_sku, 1000000)\n",
    "print(click_sequence[10])\n",
    "\n",
    "# [用户id， [产品id序列], [点击时间序列], [是否购买序列]]"
   ]
  },
  {
   "cell_type": "code",
   "execution_count": 8,
   "metadata": {},
   "outputs": [
    {
     "name": "stdout",
     "output_type": "stream",
     "text": [
      "['11a099c185', ['e88f7a67c7', 'e88f7a67c7', 'e88f7a67c7'], [Timestamp('2018-03-15 16:49:17'), Timestamp('2018-03-18 08:47:55'), Timestamp('2018-03-18 08:48:23')], [False, False, False]]\n"
     ]
    }
   ],
   "source": [
    "print(click_sequence[15])\n"
   ]
  }
 ],
 "metadata": {
  "file_extension": ".py",
  "kernelspec": {
   "display_name": "Python 3.7.4 64-bit ('base': conda)",
   "name": "python37464bitbasecondac669e08d4d2a4548bd70b293ab37b3f2"
  },
  "language_info": {
   "codemirror_mode": {
    "name": "ipython",
    "version": 3
   },
   "name": "python",
   "version": "3.7.4-final"
  },
  "latex_envs": {
   "LaTeX_envs_menu_present": true,
   "autoclose": false,
   "autocomplete": true,
   "bibliofile": "biblio.bib",
   "cite_by": "apalike",
   "current_citInitial": 1,
   "eqLabelWithNumbers": true,
   "eqNumInitial": 1,
   "hotkeys": {
    "equation": "Ctrl-E",
    "itemize": "Ctrl-I"
   },
   "labels_anchors": false,
   "latex_user_defs": false,
   "report_style_numbering": false,
   "user_envs_cfg": false
  },
  "mimetype": "text/x-python",
  "name": "python",
  "npconvert_exporter": "python",
  "pygments_lexer": "ipython3",
  "toc": {
   "base_numbering": 1,
   "nav_menu": {},
   "number_sections": true,
   "sideBar": true,
   "skip_h1_title": false,
   "title_cell": "Table of Contents",
   "title_sidebar": "Contents",
   "toc_cell": true,
   "toc_position": {},
   "toc_section_display": true,
   "toc_window_display": false
  },
  "version": 3
 },
 "nbformat": 4,
 "nbformat_minor": 2
}
